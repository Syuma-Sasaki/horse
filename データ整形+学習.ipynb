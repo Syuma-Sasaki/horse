{
  "nbformat": 4,
  "nbformat_minor": 0,
  "metadata": {
    "colab": {
      "provenance": [],
      "collapsed_sections": []
    },
    "kernelspec": {
      "name": "python3",
      "display_name": "Python 3"
    },
    "language_info": {
      "name": "python"
    }
  },
  "cells": [
    {
      "cell_type": "code",
      "execution_count": 64,
      "metadata": {
        "id": "aiBdlHJJFimf"
      },
      "outputs": [],
      "source": [
        "import pandas as pd\n",
        "df = pd.read_csv('/content/drive/MyDrive/year.csv')\n"
      ]
    },
    {
      "cell_type": "code",
      "source": [
        "! pip install lightgbm"
      ],
      "metadata": {
        "colab": {
          "base_uri": "https://localhost:8080/"
        },
        "id": "S_DAh8GFeU1A",
        "outputId": "3838b5f0-24d3-42a6-d7de-493167d55785"
      },
      "execution_count": 65,
      "outputs": [
        {
          "output_type": "stream",
          "name": "stdout",
          "text": [
            "Looking in indexes: https://pypi.org/simple, https://us-python.pkg.dev/colab-wheels/public/simple/\n",
            "Requirement already satisfied: lightgbm in /usr/local/lib/python3.7/dist-packages (2.2.3)\n",
            "Requirement already satisfied: numpy in /usr/local/lib/python3.7/dist-packages (from lightgbm) (1.21.6)\n",
            "Requirement already satisfied: scikit-learn in /usr/local/lib/python3.7/dist-packages (from lightgbm) (1.0.2)\n",
            "Requirement already satisfied: scipy in /usr/local/lib/python3.7/dist-packages (from lightgbm) (1.7.3)\n",
            "Requirement already satisfied: joblib>=0.11 in /usr/local/lib/python3.7/dist-packages (from scikit-learn->lightgbm) (1.1.0)\n",
            "Requirement already satisfied: threadpoolctl>=2.0.0 in /usr/local/lib/python3.7/dist-packages (from scikit-learn->lightgbm) (3.1.0)\n"
          ]
        }
      ]
    },
    {
      "cell_type": "code",
      "source": [
        "df2 = df.drop(['馬名','レースコード','タイム','着差','通過','騎手','人気','上がり'],axis = 'columns')\n",
        "df2 = df2[df2['周り']!='芝']"
      ],
      "metadata": {
        "id": "jzeO3lqpDy4I"
      },
      "execution_count": 66,
      "outputs": []
    },
    {
      "cell_type": "code",
      "source": [
        "df2 = df2[~(df2['着順'].astype(str).str.contains('\\D'))]\n",
        "df2 = df2[~(df2['齢'].astype(str).str.contains('\\D'))]\n",
        "df2 = df2[~(df2['距離'].astype(str).str.contains('\\D'))]"
      ],
      "metadata": {
        "id": "TlZ0OJQzEiEY"
      },
      "execution_count": 67,
      "outputs": []
    },
    {
      "cell_type": "code",
      "source": [
        "df2['着順'] = df2['着順'].astype(int)\n",
        "df2['齢'] = df2['齢'].astype(int)\n",
        "df2['馬体重'] = df2['馬体重'].astype(int)\n",
        "df2['距離'] = df2['距離'].astype(float)\n",
        "df2['単勝'] = df2['単勝'].astype(float)"
      ],
      "metadata": {
        "id": "Tl5a94aUFvMQ"
      },
      "execution_count": 68,
      "outputs": []
    },
    {
      "cell_type": "code",
      "source": [
        "#障害レース0、新馬～オープンが1～6\n",
        "df2.loc[df2['クラス'].str.contains('障害',na=False), ['クラス']]=0\n",
        "df2.loc[df2['クラス'].str.contains('新馬',na=False), ['クラス']]=1\n",
        "df2.loc[df2['クラス'].str.contains('未勝利',na=False), ['クラス']]=2\n",
        "df2.loc[df2['クラス'].str.contains('1勝',na=False), ['クラス']]=3\n",
        "df2.loc[df2['クラス'].str.contains('2勝',na=False), ['クラス']]=4\n",
        "df2.loc[df2['クラス'].str.contains('3勝',na=False), ['クラス']]=5\n",
        "df2.loc[df2['クラス'].str.contains('オープン',na=False), ['クラス']]=6\n",
        "df2['クラス'] = df2['クラス'].astype(int)"
      ],
      "metadata": {
        "id": "OqaqMh2sI4cu"
      },
      "execution_count": 69,
      "outputs": []
    },
    {
      "cell_type": "code",
      "source": [
        "#牡0、牝1、セン2\n",
        "df2.loc[df2['性'].str.contains('牡',na=False), ['性']]=0\n",
        "df2.loc[df2['性'].str.contains('牝',na=False), ['性']]=1\n",
        "df2.loc[df2['性'].str.contains('セ',na=False), ['性']]=2\n",
        "df2['性'] = df2['性'].astype(int)"
      ],
      "metadata": {
        "id": "eZl148v_Qxsg"
      },
      "execution_count": 70,
      "outputs": []
    },
    {
      "cell_type": "code",
      "source": [
        "#ダート0、芝1、障害2\n",
        "df2.loc[df2['コース'].str.contains('ダ',na=False), ['コース']]=0\n",
        "df2.loc[df2['コース'].str.contains('芝',na=False), ['コース']]=1\n",
        "df2['コース'] = df2['コース'].astype(int)"
      ],
      "metadata": {
        "id": "dgzP2lqoREby"
      },
      "execution_count": 71,
      "outputs": []
    },
    {
      "cell_type": "code",
      "source": [
        "#右回り0、左回り1\n",
        "df2.loc[df2['周り'].str.contains('右',na=False), ['周り']]=0\n",
        "df2.loc[df2['周り'].str.contains('左',na=False), ['周り']]=1\n",
        "df2['周り'] = df2['周り'].astype(int)"
      ],
      "metadata": {
        "id": "KgUmdLhzRIsU"
      },
      "execution_count": 72,
      "outputs": []
    },
    {
      "cell_type": "code",
      "source": [
        "df2['馬場状態'].value_counts()\n",
        "df2.loc[df2['馬場状態'].str.contains('良',na=False), ['馬場状態']]=0\n",
        "df2.loc[df2['馬場状態'].str.contains('稍',na=False), ['馬場状態']]=1\n",
        "df2.loc[df2['馬場状態'].str.contains('重',na=False), ['馬場状態']]=2\n",
        "df2.loc[df2['馬場状態'].str.contains('不',na=False), ['馬場状態']]=3\n",
        "df2['馬場状態'] = df2['馬場状態'].astype(int)"
      ],
      "metadata": {
        "id": "vfxlkURPRKj3"
      },
      "execution_count": 73,
      "outputs": []
    },
    {
      "cell_type": "code",
      "source": [
        "clip_rank = lambda x: x if x<2 else 2\n",
        "df2['着順'] = df2['着順'].map(clip_rank)\n",
        "df2['着順'].value_counts()"
      ],
      "metadata": {
        "colab": {
          "base_uri": "https://localhost:8080/"
        },
        "id": "2ayhPASBgqK1",
        "outputId": "8ec47b87-192f-406c-beec-e023c7e67d2c"
      },
      "execution_count": 74,
      "outputs": [
        {
          "output_type": "execute_result",
          "data": {
            "text/plain": [
              "2    37959\n",
              "1     2963\n",
              "Name: 着順, dtype: int64"
            ]
          },
          "metadata": {},
          "execution_count": 74
        }
      ]
    },
    {
      "cell_type": "code",
      "source": [
        "#データ切り分け\n",
        "from sklearn.model_selection import train_test_split\n",
        "\n",
        "X = df2.drop(['着順'],axis=1)\n",
        "y = df2['着順']\n",
        "\n",
        "X_train,X_test,y_train,y_test = train_test_split(X,y,stratify=y,test_size=0.3,random_state=0)\n",
        "odds = X_test['単勝']"
      ],
      "metadata": {
        "id": "rUp1ohwDbwWr"
      },
      "execution_count": 75,
      "outputs": []
    },
    {
      "cell_type": "code",
      "source": [
        "import lightgbm as lgb\n",
        "model = lgb.LGBMClassifier(boosting_type='goss', max_depth=5, random_state=0)"
      ],
      "metadata": {
        "id": "BFrIkKeie8xB"
      },
      "execution_count": 76,
      "outputs": []
    },
    {
      "cell_type": "code",
      "source": [
        "from sklearn import metrics\n",
        "model.fit(X_train, y_train)\n",
        "y_pred = model.predict(X_test)\n",
        "y_pred_prob = model.predict_proba(X_test)\n",
        "df_pred = pd.DataFrame({'target':y_test,'target_pred':y_pred})\n",
        "df_pred_prob = pd.DataFrame({'odds':odds,'target':y_test,'rank1':y_pred_prob[:,0], 'rank2':y_pred_prob[:,1]})\n",
        "df_pred_prob['ex'] = df_pred_prob['odds'] * df_pred_prob['rank1']\n",
        "df_pred_prob"
      ],
      "metadata": {
        "colab": {
          "base_uri": "https://localhost:8080/",
          "height": 424
        },
        "id": "5YveZFFvfBuP",
        "outputId": "39124423-32d5-4d5c-a042-c1316c5a8895"
      },
      "execution_count": 77,
      "outputs": [
        {
          "output_type": "execute_result",
          "data": {
            "text/plain": [
              "        odds  target     rank1     rank2        ex\n",
              "31918  269.7       2  0.000317  0.999683  0.085571\n",
              "40945   86.2       2  0.002908  0.997092  0.250698\n",
              "9947    10.5       2  0.118520  0.881480  1.244462\n",
              "44846    3.9       2  0.189302  0.810698  0.738276\n",
              "13758   80.5       2  0.007921  0.992079  0.637628\n",
              "...      ...     ...       ...       ...       ...\n",
              "39712    7.2       2  0.079561  0.920439  0.572837\n",
              "1606    40.7       2  0.002173  0.997827  0.088431\n",
              "3176    14.4       2  0.073785  0.926215  1.062502\n",
              "32906    4.0       2  0.139347  0.860653  0.557387\n",
              "8757    15.0       2  0.056712  0.943288  0.850677\n",
              "\n",
              "[12277 rows x 5 columns]"
            ],
            "text/html": [
              "\n",
              "  <div id=\"df-cb54742e-3aa8-40cc-a974-51c9e2541a06\">\n",
              "    <div class=\"colab-df-container\">\n",
              "      <div>\n",
              "<style scoped>\n",
              "    .dataframe tbody tr th:only-of-type {\n",
              "        vertical-align: middle;\n",
              "    }\n",
              "\n",
              "    .dataframe tbody tr th {\n",
              "        vertical-align: top;\n",
              "    }\n",
              "\n",
              "    .dataframe thead th {\n",
              "        text-align: right;\n",
              "    }\n",
              "</style>\n",
              "<table border=\"1\" class=\"dataframe\">\n",
              "  <thead>\n",
              "    <tr style=\"text-align: right;\">\n",
              "      <th></th>\n",
              "      <th>odds</th>\n",
              "      <th>target</th>\n",
              "      <th>rank1</th>\n",
              "      <th>rank2</th>\n",
              "      <th>ex</th>\n",
              "    </tr>\n",
              "  </thead>\n",
              "  <tbody>\n",
              "    <tr>\n",
              "      <th>31918</th>\n",
              "      <td>269.7</td>\n",
              "      <td>2</td>\n",
              "      <td>0.000317</td>\n",
              "      <td>0.999683</td>\n",
              "      <td>0.085571</td>\n",
              "    </tr>\n",
              "    <tr>\n",
              "      <th>40945</th>\n",
              "      <td>86.2</td>\n",
              "      <td>2</td>\n",
              "      <td>0.002908</td>\n",
              "      <td>0.997092</td>\n",
              "      <td>0.250698</td>\n",
              "    </tr>\n",
              "    <tr>\n",
              "      <th>9947</th>\n",
              "      <td>10.5</td>\n",
              "      <td>2</td>\n",
              "      <td>0.118520</td>\n",
              "      <td>0.881480</td>\n",
              "      <td>1.244462</td>\n",
              "    </tr>\n",
              "    <tr>\n",
              "      <th>44846</th>\n",
              "      <td>3.9</td>\n",
              "      <td>2</td>\n",
              "      <td>0.189302</td>\n",
              "      <td>0.810698</td>\n",
              "      <td>0.738276</td>\n",
              "    </tr>\n",
              "    <tr>\n",
              "      <th>13758</th>\n",
              "      <td>80.5</td>\n",
              "      <td>2</td>\n",
              "      <td>0.007921</td>\n",
              "      <td>0.992079</td>\n",
              "      <td>0.637628</td>\n",
              "    </tr>\n",
              "    <tr>\n",
              "      <th>...</th>\n",
              "      <td>...</td>\n",
              "      <td>...</td>\n",
              "      <td>...</td>\n",
              "      <td>...</td>\n",
              "      <td>...</td>\n",
              "    </tr>\n",
              "    <tr>\n",
              "      <th>39712</th>\n",
              "      <td>7.2</td>\n",
              "      <td>2</td>\n",
              "      <td>0.079561</td>\n",
              "      <td>0.920439</td>\n",
              "      <td>0.572837</td>\n",
              "    </tr>\n",
              "    <tr>\n",
              "      <th>1606</th>\n",
              "      <td>40.7</td>\n",
              "      <td>2</td>\n",
              "      <td>0.002173</td>\n",
              "      <td>0.997827</td>\n",
              "      <td>0.088431</td>\n",
              "    </tr>\n",
              "    <tr>\n",
              "      <th>3176</th>\n",
              "      <td>14.4</td>\n",
              "      <td>2</td>\n",
              "      <td>0.073785</td>\n",
              "      <td>0.926215</td>\n",
              "      <td>1.062502</td>\n",
              "    </tr>\n",
              "    <tr>\n",
              "      <th>32906</th>\n",
              "      <td>4.0</td>\n",
              "      <td>2</td>\n",
              "      <td>0.139347</td>\n",
              "      <td>0.860653</td>\n",
              "      <td>0.557387</td>\n",
              "    </tr>\n",
              "    <tr>\n",
              "      <th>8757</th>\n",
              "      <td>15.0</td>\n",
              "      <td>2</td>\n",
              "      <td>0.056712</td>\n",
              "      <td>0.943288</td>\n",
              "      <td>0.850677</td>\n",
              "    </tr>\n",
              "  </tbody>\n",
              "</table>\n",
              "<p>12277 rows × 5 columns</p>\n",
              "</div>\n",
              "      <button class=\"colab-df-convert\" onclick=\"convertToInteractive('df-cb54742e-3aa8-40cc-a974-51c9e2541a06')\"\n",
              "              title=\"Convert this dataframe to an interactive table.\"\n",
              "              style=\"display:none;\">\n",
              "        \n",
              "  <svg xmlns=\"http://www.w3.org/2000/svg\" height=\"24px\"viewBox=\"0 0 24 24\"\n",
              "       width=\"24px\">\n",
              "    <path d=\"M0 0h24v24H0V0z\" fill=\"none\"/>\n",
              "    <path d=\"M18.56 5.44l.94 2.06.94-2.06 2.06-.94-2.06-.94-.94-2.06-.94 2.06-2.06.94zm-11 1L8.5 8.5l.94-2.06 2.06-.94-2.06-.94L8.5 2.5l-.94 2.06-2.06.94zm10 10l.94 2.06.94-2.06 2.06-.94-2.06-.94-.94-2.06-.94 2.06-2.06.94z\"/><path d=\"M17.41 7.96l-1.37-1.37c-.4-.4-.92-.59-1.43-.59-.52 0-1.04.2-1.43.59L10.3 9.45l-7.72 7.72c-.78.78-.78 2.05 0 2.83L4 21.41c.39.39.9.59 1.41.59.51 0 1.02-.2 1.41-.59l7.78-7.78 2.81-2.81c.8-.78.8-2.07 0-2.86zM5.41 20L4 18.59l7.72-7.72 1.47 1.35L5.41 20z\"/>\n",
              "  </svg>\n",
              "      </button>\n",
              "      \n",
              "  <style>\n",
              "    .colab-df-container {\n",
              "      display:flex;\n",
              "      flex-wrap:wrap;\n",
              "      gap: 12px;\n",
              "    }\n",
              "\n",
              "    .colab-df-convert {\n",
              "      background-color: #E8F0FE;\n",
              "      border: none;\n",
              "      border-radius: 50%;\n",
              "      cursor: pointer;\n",
              "      display: none;\n",
              "      fill: #1967D2;\n",
              "      height: 32px;\n",
              "      padding: 0 0 0 0;\n",
              "      width: 32px;\n",
              "    }\n",
              "\n",
              "    .colab-df-convert:hover {\n",
              "      background-color: #E2EBFA;\n",
              "      box-shadow: 0px 1px 2px rgba(60, 64, 67, 0.3), 0px 1px 3px 1px rgba(60, 64, 67, 0.15);\n",
              "      fill: #174EA6;\n",
              "    }\n",
              "\n",
              "    [theme=dark] .colab-df-convert {\n",
              "      background-color: #3B4455;\n",
              "      fill: #D2E3FC;\n",
              "    }\n",
              "\n",
              "    [theme=dark] .colab-df-convert:hover {\n",
              "      background-color: #434B5C;\n",
              "      box-shadow: 0px 1px 3px 1px rgba(0, 0, 0, 0.15);\n",
              "      filter: drop-shadow(0px 1px 2px rgba(0, 0, 0, 0.3));\n",
              "      fill: #FFFFFF;\n",
              "    }\n",
              "  </style>\n",
              "\n",
              "      <script>\n",
              "        const buttonEl =\n",
              "          document.querySelector('#df-cb54742e-3aa8-40cc-a974-51c9e2541a06 button.colab-df-convert');\n",
              "        buttonEl.style.display =\n",
              "          google.colab.kernel.accessAllowed ? 'block' : 'none';\n",
              "\n",
              "        async function convertToInteractive(key) {\n",
              "          const element = document.querySelector('#df-cb54742e-3aa8-40cc-a974-51c9e2541a06');\n",
              "          const dataTable =\n",
              "            await google.colab.kernel.invokeFunction('convertToInteractive',\n",
              "                                                     [key], {});\n",
              "          if (!dataTable) return;\n",
              "\n",
              "          const docLinkHtml = 'Like what you see? Visit the ' +\n",
              "            '<a target=\"_blank\" href=https://colab.research.google.com/notebooks/data_table.ipynb>data table notebook</a>'\n",
              "            + ' to learn more about interactive tables.';\n",
              "          element.innerHTML = '';\n",
              "          dataTable['output_type'] = 'display_data';\n",
              "          await google.colab.output.renderOutput(dataTable, element);\n",
              "          const docLink = document.createElement('div');\n",
              "          docLink.innerHTML = docLinkHtml;\n",
              "          element.appendChild(docLink);\n",
              "        }\n",
              "      </script>\n",
              "    </div>\n",
              "  </div>\n",
              "  "
            ]
          },
          "metadata": {},
          "execution_count": 77
        }
      ]
    },
    {
      "cell_type": "code",
      "source": [
        "#期待値（ex）が1以上を抜き出す\n",
        "buy = df_pred_prob[df_pred_prob['ex'] > 1]\n",
        "buy"
      ],
      "metadata": {
        "id": "4Lr0oKLpmSiT",
        "colab": {
          "base_uri": "https://localhost:8080/",
          "height": 424
        },
        "outputId": "117c922e-dcd0-4395-bdee-f25c0afc0e54"
      },
      "execution_count": 78,
      "outputs": [
        {
          "output_type": "execute_result",
          "data": {
            "text/plain": [
              "       odds  target     rank1     rank2        ex\n",
              "9947   10.5       2  0.118520  0.881480  1.244462\n",
              "45577  20.6       2  0.054157  0.945843  1.115637\n",
              "44231   8.4       1  0.136159  0.863841  1.143735\n",
              "33404   6.4       2  0.158973  0.841027  1.017430\n",
              "30518  14.4       2  0.076572  0.923428  1.102630\n",
              "...     ...     ...       ...       ...       ...\n",
              "1434   31.1       2  0.060853  0.939147  1.892534\n",
              "5465   10.9       2  0.122328  0.877672  1.333377\n",
              "24916  68.7       2  0.014884  0.985116  1.022564\n",
              "2593   24.7       2  0.052079  0.947921  1.286361\n",
              "3176   14.4       2  0.073785  0.926215  1.062502\n",
              "\n",
              "[2031 rows x 5 columns]"
            ],
            "text/html": [
              "\n",
              "  <div id=\"df-5afef408-46d3-45ed-9d75-30a76d960015\">\n",
              "    <div class=\"colab-df-container\">\n",
              "      <div>\n",
              "<style scoped>\n",
              "    .dataframe tbody tr th:only-of-type {\n",
              "        vertical-align: middle;\n",
              "    }\n",
              "\n",
              "    .dataframe tbody tr th {\n",
              "        vertical-align: top;\n",
              "    }\n",
              "\n",
              "    .dataframe thead th {\n",
              "        text-align: right;\n",
              "    }\n",
              "</style>\n",
              "<table border=\"1\" class=\"dataframe\">\n",
              "  <thead>\n",
              "    <tr style=\"text-align: right;\">\n",
              "      <th></th>\n",
              "      <th>odds</th>\n",
              "      <th>target</th>\n",
              "      <th>rank1</th>\n",
              "      <th>rank2</th>\n",
              "      <th>ex</th>\n",
              "    </tr>\n",
              "  </thead>\n",
              "  <tbody>\n",
              "    <tr>\n",
              "      <th>9947</th>\n",
              "      <td>10.5</td>\n",
              "      <td>2</td>\n",
              "      <td>0.118520</td>\n",
              "      <td>0.881480</td>\n",
              "      <td>1.244462</td>\n",
              "    </tr>\n",
              "    <tr>\n",
              "      <th>45577</th>\n",
              "      <td>20.6</td>\n",
              "      <td>2</td>\n",
              "      <td>0.054157</td>\n",
              "      <td>0.945843</td>\n",
              "      <td>1.115637</td>\n",
              "    </tr>\n",
              "    <tr>\n",
              "      <th>44231</th>\n",
              "      <td>8.4</td>\n",
              "      <td>1</td>\n",
              "      <td>0.136159</td>\n",
              "      <td>0.863841</td>\n",
              "      <td>1.143735</td>\n",
              "    </tr>\n",
              "    <tr>\n",
              "      <th>33404</th>\n",
              "      <td>6.4</td>\n",
              "      <td>2</td>\n",
              "      <td>0.158973</td>\n",
              "      <td>0.841027</td>\n",
              "      <td>1.017430</td>\n",
              "    </tr>\n",
              "    <tr>\n",
              "      <th>30518</th>\n",
              "      <td>14.4</td>\n",
              "      <td>2</td>\n",
              "      <td>0.076572</td>\n",
              "      <td>0.923428</td>\n",
              "      <td>1.102630</td>\n",
              "    </tr>\n",
              "    <tr>\n",
              "      <th>...</th>\n",
              "      <td>...</td>\n",
              "      <td>...</td>\n",
              "      <td>...</td>\n",
              "      <td>...</td>\n",
              "      <td>...</td>\n",
              "    </tr>\n",
              "    <tr>\n",
              "      <th>1434</th>\n",
              "      <td>31.1</td>\n",
              "      <td>2</td>\n",
              "      <td>0.060853</td>\n",
              "      <td>0.939147</td>\n",
              "      <td>1.892534</td>\n",
              "    </tr>\n",
              "    <tr>\n",
              "      <th>5465</th>\n",
              "      <td>10.9</td>\n",
              "      <td>2</td>\n",
              "      <td>0.122328</td>\n",
              "      <td>0.877672</td>\n",
              "      <td>1.333377</td>\n",
              "    </tr>\n",
              "    <tr>\n",
              "      <th>24916</th>\n",
              "      <td>68.7</td>\n",
              "      <td>2</td>\n",
              "      <td>0.014884</td>\n",
              "      <td>0.985116</td>\n",
              "      <td>1.022564</td>\n",
              "    </tr>\n",
              "    <tr>\n",
              "      <th>2593</th>\n",
              "      <td>24.7</td>\n",
              "      <td>2</td>\n",
              "      <td>0.052079</td>\n",
              "      <td>0.947921</td>\n",
              "      <td>1.286361</td>\n",
              "    </tr>\n",
              "    <tr>\n",
              "      <th>3176</th>\n",
              "      <td>14.4</td>\n",
              "      <td>2</td>\n",
              "      <td>0.073785</td>\n",
              "      <td>0.926215</td>\n",
              "      <td>1.062502</td>\n",
              "    </tr>\n",
              "  </tbody>\n",
              "</table>\n",
              "<p>2031 rows × 5 columns</p>\n",
              "</div>\n",
              "      <button class=\"colab-df-convert\" onclick=\"convertToInteractive('df-5afef408-46d3-45ed-9d75-30a76d960015')\"\n",
              "              title=\"Convert this dataframe to an interactive table.\"\n",
              "              style=\"display:none;\">\n",
              "        \n",
              "  <svg xmlns=\"http://www.w3.org/2000/svg\" height=\"24px\"viewBox=\"0 0 24 24\"\n",
              "       width=\"24px\">\n",
              "    <path d=\"M0 0h24v24H0V0z\" fill=\"none\"/>\n",
              "    <path d=\"M18.56 5.44l.94 2.06.94-2.06 2.06-.94-2.06-.94-.94-2.06-.94 2.06-2.06.94zm-11 1L8.5 8.5l.94-2.06 2.06-.94-2.06-.94L8.5 2.5l-.94 2.06-2.06.94zm10 10l.94 2.06.94-2.06 2.06-.94-2.06-.94-.94-2.06-.94 2.06-2.06.94z\"/><path d=\"M17.41 7.96l-1.37-1.37c-.4-.4-.92-.59-1.43-.59-.52 0-1.04.2-1.43.59L10.3 9.45l-7.72 7.72c-.78.78-.78 2.05 0 2.83L4 21.41c.39.39.9.59 1.41.59.51 0 1.02-.2 1.41-.59l7.78-7.78 2.81-2.81c.8-.78.8-2.07 0-2.86zM5.41 20L4 18.59l7.72-7.72 1.47 1.35L5.41 20z\"/>\n",
              "  </svg>\n",
              "      </button>\n",
              "      \n",
              "  <style>\n",
              "    .colab-df-container {\n",
              "      display:flex;\n",
              "      flex-wrap:wrap;\n",
              "      gap: 12px;\n",
              "    }\n",
              "\n",
              "    .colab-df-convert {\n",
              "      background-color: #E8F0FE;\n",
              "      border: none;\n",
              "      border-radius: 50%;\n",
              "      cursor: pointer;\n",
              "      display: none;\n",
              "      fill: #1967D2;\n",
              "      height: 32px;\n",
              "      padding: 0 0 0 0;\n",
              "      width: 32px;\n",
              "    }\n",
              "\n",
              "    .colab-df-convert:hover {\n",
              "      background-color: #E2EBFA;\n",
              "      box-shadow: 0px 1px 2px rgba(60, 64, 67, 0.3), 0px 1px 3px 1px rgba(60, 64, 67, 0.15);\n",
              "      fill: #174EA6;\n",
              "    }\n",
              "\n",
              "    [theme=dark] .colab-df-convert {\n",
              "      background-color: #3B4455;\n",
              "      fill: #D2E3FC;\n",
              "    }\n",
              "\n",
              "    [theme=dark] .colab-df-convert:hover {\n",
              "      background-color: #434B5C;\n",
              "      box-shadow: 0px 1px 3px 1px rgba(0, 0, 0, 0.15);\n",
              "      filter: drop-shadow(0px 1px 2px rgba(0, 0, 0, 0.3));\n",
              "      fill: #FFFFFF;\n",
              "    }\n",
              "  </style>\n",
              "\n",
              "      <script>\n",
              "        const buttonEl =\n",
              "          document.querySelector('#df-5afef408-46d3-45ed-9d75-30a76d960015 button.colab-df-convert');\n",
              "        buttonEl.style.display =\n",
              "          google.colab.kernel.accessAllowed ? 'block' : 'none';\n",
              "\n",
              "        async function convertToInteractive(key) {\n",
              "          const element = document.querySelector('#df-5afef408-46d3-45ed-9d75-30a76d960015');\n",
              "          const dataTable =\n",
              "            await google.colab.kernel.invokeFunction('convertToInteractive',\n",
              "                                                     [key], {});\n",
              "          if (!dataTable) return;\n",
              "\n",
              "          const docLinkHtml = 'Like what you see? Visit the ' +\n",
              "            '<a target=\"_blank\" href=https://colab.research.google.com/notebooks/data_table.ipynb>data table notebook</a>'\n",
              "            + ' to learn more about interactive tables.';\n",
              "          element.innerHTML = '';\n",
              "          dataTable['output_type'] = 'display_data';\n",
              "          await google.colab.output.renderOutput(dataTable, element);\n",
              "          const docLink = document.createElement('div');\n",
              "          docLink.innerHTML = docLinkHtml;\n",
              "          element.appendChild(docLink);\n",
              "        }\n",
              "      </script>\n",
              "    </div>\n",
              "  </div>\n",
              "  "
            ]
          },
          "metadata": {},
          "execution_count": 78
        }
      ]
    },
    {
      "cell_type": "code",
      "source": [
        "#期待される回収率を調べる\n",
        "buy[buy['target']==1].sum()"
      ],
      "metadata": {
        "colab": {
          "base_uri": "https://localhost:8080/"
        },
        "id": "rA6oroF1JAz3",
        "outputId": "e6b2c9ae-1e15-48b2-c68e-ee4d99ee993e"
      },
      "execution_count": 79,
      "outputs": [
        {
          "output_type": "execute_result",
          "data": {
            "text/plain": [
              "odds      1799.500000\n",
              "target     133.000000\n",
              "rank1       31.692868\n",
              "rank2      101.307132\n",
              "ex         178.134437\n",
              "dtype: float64"
            ]
          },
          "metadata": {},
          "execution_count": 79
        }
      ]
    }
  ]
}